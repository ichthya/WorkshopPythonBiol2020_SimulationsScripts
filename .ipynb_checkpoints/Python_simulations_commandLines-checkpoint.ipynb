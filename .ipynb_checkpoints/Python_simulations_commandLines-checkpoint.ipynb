{
 "cells": [
  {
   "cell_type": "markdown",
   "metadata": {},
   "source": [
    "<font size=\"3\" color=\"gray\"><b><center>III Workshop de Python para Dados Biológicos</center></b></font>\n",
    "# <center>Python em estudos evolutivos:</center> \n",
    "## <center>de simulações à análise de dados</center>\n",
    "<br>\n",
    "<font size=\"4\" color=\"black\"><b><center>Andréa T. Thomaz</center></b></font>\n",
    "<center>University British Columbia - Canada <br></center>\n",
    "<center>Universidad del Rosario - Colombia</center>\n",
    "\n",
    "<font size=\"3\" color=\"gray\"><center>- 10 de Setembro, 2020 -</center></font>"
   ]
  },
  {
   "cell_type": "markdown",
   "metadata": {},
   "source": [
    "## RESUMO\n",
    "\n",
    "O uso da programação de dados, como a utilização da linguagem Python, vai muito além do desenvolvimento de softwares. Na biologia, a capacidade de desenvolver \"scripts caseiros\" cujo objetivo seja auxiliar o pesquisador a desenvolver tarefas específicas para responder suas hipóteses está se tornando imprescindível, principalmente na época atual que lidamos com grandes quantidades de dados (e.g., banco de dados grandes e \"omics\"). Por isso, através de exemplos relacionados à geração e análise de simulações biológicas, com um foco evolutivo, pretenddo ilustrar diferentes usos da linguagem Python no dia-a-dia da pesquisa e como ferramenta facilitadora para a realização de diversas tarefas. Para isso, primeiramente vou ilustrar o uso de simulações com exemplos probabilísticos relacionados ao tamanho amostral e aplicar essas simulações ao conceito de deriva genética baseado em scripts próprios. Após, vou demonstrar o uso de Python em cenários evolutivos mais complexos, onde aplicamos conhecimento de programação em combinação com softwares já desenvolvidos e, a partir dos resultados obtidos, sumarizar grandes quantidades de dados gerados e aplicar testes estatísticos em Python para obter resultados que nos leve a responder perguntas de interesse biológico. Através do uso de simulações geradas em Python, somos capazes de testar uma variedade infinita de perguntas evolutivas de maneira a nos auxiliar a distinguir padrões biológicos e seus processos."
   ]
  },
  {
   "cell_type": "markdown",
   "metadata": {},
   "source": [
    "## COVID-19 projeções"
   ]
  },
  {
   "cell_type": "code",
   "execution_count": null,
   "metadata": {},
   "outputs": [],
   "source": [
    "##script downloaded do github, para isso no seu terminal digitar:\n",
    "#git clone https://github.com/youyanggu/yyg-seir-simulator.git\n",
    "\n",
    "#correndo para os 3 parâmetros testados:\n",
    "import numpy as np\n",
    "%run ./Scripts/yyg-seir-simulator/run_simulation.py --skip_hospitalizations --quarantine_perc 0 --save_csv_fname Brazil_0quarantPerc.csv -v --best_params_dir ./Scripts/yyg-seir-simulator/best_params/latest --country Brazil\n",
    "%run ./Scripts/yyg-seir-simulator/run_simulation.py --skip_hospitalizations --quarantine_perc 0.25 --quarantine_effectiveness 0.25 --save_csv_fname Brazil_25quarantPerc.csv -v --best_params_dir ./Scripts/yyg-seir-simulator/best_params/latest --country Brazil\n",
    "%run ./Scripts/yyg-seir-simulator/run_simulation.py --skip_hospitalizations --quarantine_perc 0.5 --quarantine_effectiveness 0.5 --save_csv_fname Brazil_50quarantPerc.csv -v --best_params_dir ./Scripts/yyg-seir-simulator/best_params/latest --country Brazil\n"
   ]
  },
  {
   "cell_type": "code",
   "execution_count": null,
   "metadata": {},
   "outputs": [],
   "source": [
    "#lendo e plotando os csv gerados acima\n",
    "import pandas as pd\n",
    "import plotly.express as px\n",
    "import plotly\n",
    "\n",
    "#reading data frames with pandas\n",
    "df0 = pd.read_csv('./Scripts/yyg-seir-simulator/Brazil_0quarantPerc.csv')\n",
    "df25 = pd.read_csv('./Scripts/yyg-seir-simulator/Brazil_25quarantPerc.csv')\n",
    "df50 = pd.read_csv('./Scripts/yyg-seir-simulator/Brazil_50quarantPerc.csv')\n",
    "#merging all the data frames into a single one\n",
    "df = pd.concat([df0,df25,df50], keys=[\"Q0\",\"Q25\",\"Q50\"]).reset_index()\n",
    "#df.head()\n",
    "fig = px.line(df, x = '# dates', y = 'deaths',color='level_0',\n",
    "             labels={\"deaths\": \"Number of deaths\",\n",
    "                    \"# dates\": \"Dates\",\n",
    "                    \"level_0\": \"% quarantine\"})\n",
    "fig.show()\n",
    "#fig.write_image(\"./Figures/Brazil_covid.png\")"
   ]
  },
  {
   "cell_type": "markdown",
   "metadata": {},
   "source": [
    "# Uso de python em simulações biológicas\n",
    "\n",
    "$\\;\\;\\;\\;\\;\\;$1) Scripts caseiros\n",
    "\n",
    "$\\;\\;\\;\\;\\;\\;$2) Com outros softwares\n",
    "\n",
    "$\\;\\;\\;\\;\\;\\;$3) Sumarizar grandes quantidades de resultados"
   ]
  },
  {
   "cell_type": "markdown",
   "metadata": {},
   "source": [
    "## 1) Scripts caseiros\n",
    "\n",
    "Script modificado de original (autor: Tom Booker, UBC) <br>\n",
    "Link github: https://github.com/TBooker/GlobalAdaptation/tree/master/SteppingStone\n",
    "\n",
    "- pacotes utilizados: <br>\n",
    "$\\;\\;\\;\\;\\;\\;$<b>- numpy:</b> gerar \"random seed\", soma e vetores <br>\n",
    "$\\;\\;\\;\\;\\;\\;$<b>- argparse:</b> para passar comandos ao chamar o script\n",
    "<br>\n",
    "<br>\n",
    "- linha de comando: <br>\n",
    "$\\;\\;\\;$python drifter.py -k 1 -N 100 -m 0 -p 0.5 -d 10000 -o driftedPop_N100.csv --store"
   ]
  },
  {
   "cell_type": "code",
   "execution_count": null,
   "metadata": {},
   "outputs": [],
   "source": [
    "#gera csv para os 4 tamanhos efetivos (N) testados\n",
    "## 1) Scripts caseiros\n",
    "\n",
    "%run ./Scripts/01_Drift/drifter.py -k 1 -N 100 -m 0 -p 0.5 -d 10000 -o ./Scripts/driftedPop_N100.csv --store\n",
    "%run ./Scripts/01_Drift/drifter.py -k 1 -N 1000 -m 0 -p 0.5 -d 10000 -o ./Scripts/driftedPop_N1000.csv --store\n",
    "%run ./Scripts/01_Drift/drifter.py -k 1 -N 10000 -m 0 -p 0.5 -d 10000 -o ./Scripts/driftedPop_N10000.csv --store\n",
    "%run ./Scripts/01_Drift/drifter.py -k 1 -N 100000 -m 0 -p 0.5 -d 10000 -o ./Scripts/driftedPop_N100000.csv --store"
   ]
  },
  {
   "cell_type": "code",
   "execution_count": null,
   "metadata": {},
   "outputs": [],
   "source": [
    "#plotando\n",
    "#reading data frames with pandas\n",
    "df1e2 = pd.read_csv('./Scripts/02_SteppingStone/driftedPop_Rep10_N100.csv', names=['Generation','Frequency','Replicate'])\n",
    "df1e3 = pd.read_csv('./Scripts/02_SteppingStone/driftedPop_Rep10_N1000.csv', names=['Generation','Frequency','Replicate'])\n",
    "df1e4 = pd.read_csv('./Scripts/02_SteppingStone/driftedPop_Rep10_N10000.csv', names=['Generation','Frequency','Replicate'])\n",
    "df1e5 = pd.read_csv('./Scripts/02_SteppingStone/driftedPop_Rep10_N100000.csv', names=['Generation','Frequency','Replicate'])\n",
    "\n",
    "#merging all the data frames into a single one\n",
    "df = pd.concat([df1e2,df1e3,df1e4,df1e5], keys=[\"Ne=100\",\"Ne=1000\",\"Ne=10000\",\"Ne=100000\"]).reset_index()\n",
    "#df.head()\n",
    "\n",
    "fig = px.line(df, x = 'Generation', y = 'Frequency', color='level_0', line_group='Replicate', labels={\"level_0\": \"\"})\n",
    "fig.update_xaxes(range=[0, 9900])\n",
    "fig.update_yaxes(range=[0, 1])\n",
    "fig.show()\n",
    "#fig.write_image(\"./Figures/Drift_python.png\")"
   ]
  },
  {
   "cell_type": "markdown",
   "metadata": {},
   "source": [
    "## 2) Python com outros softwares e pacotes já desenvolvidos \n",
    "Vamos utilizar:\n",
    "- *msprime:* https://msprime.readthedocs.io/en/stable/tutorial.html"
   ]
  },
  {
   "cell_type": "code",
   "execution_count": null,
   "metadata": {},
   "outputs": [],
   "source": [
    "import msprime\n",
    "import plotly.figure_factory as ff\n",
    "\n",
    "#number of replicates to perform per Ne\n",
    "num_replicates = 10000\n",
    "#array with population sizes to be simulated\n",
    "Ne_array=[ 100 , 1000 , 10000, 100000 ]\n",
    "#generate empty array to append in the for loop\n",
    "T = []\n",
    "\n",
    "#for loop to simulate trees for each population size\n",
    "for n in Ne_array:\n",
    "\treplicates = msprime.simulate(sample_size=10, Ne=n, num_replicates=num_replicates)\n",
    "\t# And then iterate over these replicates to calculate the time since the MRCA\n",
    "\tfor i, tree_sequence in enumerate(replicates):\n",
    "\t\ttree = tree_sequence.first()\n",
    "\t\tT.append( tree.time(tree.root) ) #this will be a long vector with all divergences\n",
    "\n",
    "#making a data frame with time and Ne\n",
    "df = pd.DataFrame({'Ne = 100': T[0:num_replicates], \n",
    "\t'Ne = 1000': T[num_replicates:num_replicates*2],\n",
    "\t'Ne = 10000': T[num_replicates*2:num_replicates*3],\n",
    "\t'Ne = 100000': T[num_replicates*3:num_replicates*4]})\n",
    "#show means\n",
    "print(df.mean())\n",
    "\n",
    "#Plotting :)\n",
    "fig = ff.create_distplot([df[c] for c in df.columns], df.columns, bin_size=.25)\n",
    "fig.update_xaxes(range=[-1000, 250000])\n",
    "fig.show()\n",
    "#fig.write_image(\"./Figures/Tmrca_distr.png\")"
   ]
  },
  {
   "cell_type": "markdown",
   "metadata": {},
   "source": [
    "# <center><b>FIM :)</b></center>"
   ]
  },
  {
   "cell_type": "code",
   "execution_count": null,
   "metadata": {},
   "outputs": [],
   "source": []
  }
 ],
 "metadata": {
  "kernelspec": {
   "display_name": "Python 3",
   "language": "python",
   "name": "python3"
  },
  "language_info": {
   "codemirror_mode": {
    "name": "ipython",
    "version": 3
   },
   "file_extension": ".py",
   "mimetype": "text/x-python",
   "name": "python",
   "nbconvert_exporter": "python",
   "pygments_lexer": "ipython3",
   "version": "3.7.4"
  }
 },
 "nbformat": 4,
 "nbformat_minor": 4
}
